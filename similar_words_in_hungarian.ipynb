{
  "nbformat": 4,
  "nbformat_minor": 0,
  "metadata": {
    "colab": {
      "provenance": [],
      "authorship_tag": "ABX9TyOfY6Vc3ZTUTyB77UZW5Crc",
      "include_colab_link": true
    },
    "kernelspec": {
      "name": "python3",
      "display_name": "Python 3"
    },
    "language_info": {
      "name": "python"
    }
  },
  "cells": [
    {
      "cell_type": "markdown",
      "metadata": {
        "id": "view-in-github",
        "colab_type": "text"
      },
      "source": [
        "<a href=\"https://colab.research.google.com/github/acheronw/mondoreg/blob/master/similar_words_in_hungarian.ipynb\" target=\"_parent\"><img src=\"https://colab.research.google.com/assets/colab-badge.svg\" alt=\"Open In Colab\"/></a>"
      ]
    },
    {
      "cell_type": "markdown",
      "source": [
        "## Setup"
      ],
      "metadata": {
        "id": "mtaKfn53O57E"
      }
    },
    {
      "cell_type": "markdown",
      "source": [
        "Import Libraries"
      ],
      "metadata": {
        "id": "c6fb5CRkMA16"
      }
    },
    {
      "cell_type": "code",
      "source": [
        "!pip install --upgrade gensim"
      ],
      "metadata": {
        "colab": {
          "base_uri": "https://localhost:8080/"
        },
        "id": "s3yYsHPki9_T",
        "outputId": "84e2bf25-0eb8-4813-b6d7-3144c758271f"
      },
      "execution_count": 1,
      "outputs": [
        {
          "output_type": "stream",
          "name": "stdout",
          "text": [
            "Looking in indexes: https://pypi.org/simple, https://us-python.pkg.dev/colab-wheels/public/simple/\n",
            "Requirement already satisfied: gensim in /usr/local/lib/python3.7/dist-packages (3.6.0)\n",
            "Collecting gensim\n",
            "  Downloading gensim-4.2.0-cp37-cp37m-manylinux_2_12_x86_64.manylinux2010_x86_64.whl (24.1 MB)\n",
            "\u001b[K     |████████████████████████████████| 24.1 MB 4.4 MB/s \n",
            "\u001b[?25hRequirement already satisfied: smart-open>=1.8.1 in /usr/local/lib/python3.7/dist-packages (from gensim) (5.2.1)\n",
            "Requirement already satisfied: scipy>=0.18.1 in /usr/local/lib/python3.7/dist-packages (from gensim) (1.7.3)\n",
            "Requirement already satisfied: numpy>=1.17.0 in /usr/local/lib/python3.7/dist-packages (from gensim) (1.21.6)\n",
            "Installing collected packages: gensim\n",
            "  Attempting uninstall: gensim\n",
            "    Found existing installation: gensim 3.6.0\n",
            "    Uninstalling gensim-3.6.0:\n",
            "      Successfully uninstalled gensim-3.6.0\n",
            "Successfully installed gensim-4.2.0\n"
          ]
        }
      ]
    },
    {
      "cell_type": "code",
      "execution_count": 2,
      "metadata": {
        "colab": {
          "base_uri": "https://localhost:8080/"
        },
        "id": "S0ky6UOEKAcx",
        "outputId": "760b80b7-d82c-4ac9-96a1-144ec1a1b942"
      },
      "outputs": [
        {
          "output_type": "stream",
          "name": "stdout",
          "text": [
            "4.2.0\n"
          ]
        }
      ],
      "source": [
        "import numpy as np\n",
        "import gzip\n",
        "import gensim\n",
        "\n",
        "print(gensim.__version__)\n",
        "\n",
        "import logging\n",
        "import multiprocessing"
      ]
    },
    {
      "cell_type": "markdown",
      "source": [
        "Some basic setup steps:"
      ],
      "metadata": {
        "id": "G5NGdyylODW6"
      }
    },
    {
      "cell_type": "code",
      "source": [
        "# np.random.seed(7)\n",
        "logging.basicConfig()\n",
        "\n",
        "logger = logging.getLogger('swih')\n",
        "logger.setLevel(logging.INFO)\n",
        "logger.info(\"test\")\n",
        "\n",
        "no_cores = multiprocessing.cpu_count()\n",
        "logger.info(\"Using {0} processors\".format (no_cores))\n",
        "\n"
      ],
      "metadata": {
        "colab": {
          "base_uri": "https://localhost:8080/"
        },
        "id": "dutmeScLMM6S",
        "outputId": "2f5dff99-ab5b-44d6-8c57-9d6c47e031c6"
      },
      "execution_count": 3,
      "outputs": [
        {
          "output_type": "stream",
          "name": "stderr",
          "text": [
            "INFO:swih:test\n",
            "INFO:swih:Using 2 processors\n"
          ]
        }
      ]
    },
    {
      "cell_type": "markdown",
      "source": [
        "## Hyperparameters"
      ],
      "metadata": {
        "id": "bFIfOLhn79GL"
      }
    },
    {
      "cell_type": "code",
      "source": [
        "vector_size = 150\n",
        "training_epochs = 5\n",
        "window_size = 5\n",
        "word_freq_cutoff = 1\n",
        "\n",
        "model_name = \"plain_corpus_w2v.model\""
      ],
      "metadata": {
        "id": "MjRGTLWC8Blk"
      },
      "execution_count": 4,
      "outputs": []
    },
    {
      "cell_type": "markdown",
      "source": [
        "## Import Corpus"
      ],
      "metadata": {
        "id": "Q7WOLRATO0Px"
      }
    },
    {
      "cell_type": "markdown",
      "source": [
        "Using the Hungarian webkorpusz 2.0\n",
        "\n",
        "https://hlt.bme.hu/hu/resources/webcorpus2\n",
        "\n",
        "For the first iteration, we will be using the clear text version of the corpus.\n",
        "\n",
        "Let's do with only a single gzip for now:"
      ],
      "metadata": {
        "id": "nvhutopHO_hm"
      }
    },
    {
      "cell_type": "code",
      "source": [
        "!wget https://nessie.ilab.sztaki.hu/~ndavid/Webcorpus2_text/2017_2018_0001.txt.gz"
      ],
      "metadata": {
        "colab": {
          "base_uri": "https://localhost:8080/"
        },
        "id": "jhOVypR4Pw-9",
        "outputId": "48a1fe5c-d56b-4bdc-9354-e11b902c4283"
      },
      "execution_count": 5,
      "outputs": [
        {
          "output_type": "stream",
          "name": "stdout",
          "text": [
            "--2022-11-27 07:19:13--  https://nessie.ilab.sztaki.hu/~ndavid/Webcorpus2_text/2017_2018_0001.txt.gz\n",
            "Resolving nessie.ilab.sztaki.hu (nessie.ilab.sztaki.hu)... 195.111.1.193\n",
            "Connecting to nessie.ilab.sztaki.hu (nessie.ilab.sztaki.hu)|195.111.1.193|:443... connected.\n",
            "HTTP request sent, awaiting response... 200 OK\n",
            "Length: 2769774 (2.6M) [application/x-gzip]\n",
            "Saving to: ‘2017_2018_0001.txt.gz.1’\n",
            "\n",
            "2017_2018_0001.txt. 100%[===================>]   2.64M  3.88MB/s    in 0.7s    \n",
            "\n",
            "2022-11-27 07:19:14 (3.88 MB/s) - ‘2017_2018_0001.txt.gz.1’ saved [2769774/2769774]\n",
            "\n"
          ]
        }
      ]
    },
    {
      "cell_type": "markdown",
      "source": [
        "Let's peak into its contents:"
      ],
      "metadata": {
        "id": "kPMFFsdJbkjk"
      }
    },
    {
      "cell_type": "code",
      "source": [
        "data_file = \"2017_2018_0001.txt.gz\"\n",
        "\n",
        "with gzip.open (data_file, 'rb') as f:\n",
        "    for i,line in enumerate (f):\n",
        "        print(line)\n",
        "        break\n"
      ],
      "metadata": {
        "colab": {
          "base_uri": "https://localhost:8080/"
        },
        "id": "HvPlul_2SHCS",
        "outputId": "01272e96-1d08-4825-ec92-fc6de409743a"
      },
      "execution_count": 6,
      "outputs": [
        {
          "output_type": "stream",
          "name": "stdout",
          "text": [
            "b'\\xc3\\x81jurv\\xc3\\xa9da \\xe2\\x80\\x93 A hossz\\xc3\\xba \\xc3\\xa9s boldog \\xc3\\xa9let titka\\n'\n"
          ]
        }
      ]
    },
    {
      "cell_type": "markdown",
      "source": [
        "We have checked the first line. Unicode is displayed in an unreadable way, but it is not supposed to cause any problems."
      ],
      "metadata": {
        "id": "SZPXT0YWUVOp"
      }
    },
    {
      "cell_type": "markdown",
      "source": [
        "The tutorial suggests to use gensim's simple preprocessing. It would discard too short and too long tokens and also downcase everything.\n",
        "For the time being let's not do that. Case sensitivity might help us with the task.\n",
        "\n",
        "Gensim also has preprocessing.read_file and read_files method. Check those out!"
      ],
      "metadata": {
        "id": "iUC9Ge1RUlUB"
      }
    },
    {
      "cell_type": "code",
      "source": [
        "def read_input(input_file):\n",
        "    \"\"\"This method reads the input file which is in gzip format\"\"\"\n",
        "    logging.info(\"reading file {0}...this may take a while\".format(input_file))\n",
        "    with gzip.open (input_file, 'rb') as f:\n",
        "        for i, line in enumerate (f): \n",
        "\n",
        "            if (i%10000==0):\n",
        "                logger.info (\"read {0} lines\".format (i))\n",
        "            yield gensim.parsing.preprocess_string(line)\n",
        "\n",
        "# Read the corpus into a list\n",
        "documents = list(read_input (data_file))\n",
        "logger.info(\"Done reading data file\")\n",
        "\n",
        "print(documents[3])"
      ],
      "metadata": {
        "colab": {
          "base_uri": "https://localhost:8080/"
        },
        "id": "1tlsM1O5VN2C",
        "outputId": "496e6d60-e7b6-4e7f-c23a-e91c9e0ababc"
      },
      "execution_count": 7,
      "outputs": [
        {
          "output_type": "stream",
          "name": "stderr",
          "text": [
            "INFO:swih:read 0 lines\n",
            "INFO:swih:read 10000 lines\n",
            "INFO:swih:read 20000 lines\n",
            "INFO:swih:read 30000 lines\n",
            "INFO:swih:read 40000 lines\n",
            "INFO:swih:read 50000 lines\n",
            "INFO:swih:read 60000 lines\n",
            "INFO:swih:read 70000 lines\n",
            "INFO:swih:read 80000 lines\n",
            "INFO:swih:Done reading data file\n"
          ]
        },
        {
          "output_type": "stream",
          "name": "stdout",
          "text": [
            "['ájurvéda', 'alapelv', 'ismerd', 'meg', 'önmagad', 'válj', 'önmagad', 'gyógyítójává']\n"
          ]
        }
      ]
    },
    {
      "cell_type": "markdown",
      "source": [
        "## Training the vectors"
      ],
      "metadata": {
        "id": "MKuo45KNbUCj"
      }
    },
    {
      "cell_type": "markdown",
      "source": [
        "Initializing the model:"
      ],
      "metadata": {
        "id": "BnSKBax7lKNS"
      }
    },
    {
      "cell_type": "code",
      "source": [
        "# documents = [['first', 'sentence'], ['second', 'sentence']]"
      ],
      "metadata": {
        "id": "v-RC0uQ6o0jV"
      },
      "execution_count": 8,
      "outputs": []
    },
    {
      "cell_type": "code",
      "source": [
        "model = gensim.models.Word2Vec (documents, vector_size= vector_size, window= window_size, min_count=word_freq_cutoff, workers=no_cores)"
      ],
      "metadata": {
        "id": "HCVLYMwcbVEO"
      },
      "execution_count": 9,
      "outputs": []
    },
    {
      "cell_type": "code",
      "source": [
        "model.build_vocab(documents)"
      ],
      "metadata": {
        "colab": {
          "base_uri": "https://localhost:8080/"
        },
        "id": "Wdb6XtuMpHhk",
        "outputId": "17f26fd6-846a-49eb-8cef-99199e77bcc6"
      },
      "execution_count": 10,
      "outputs": [
        {
          "output_type": "stream",
          "name": "stderr",
          "text": [
            "WARNING:gensim.models.keyedvectors:sorting after vectors have been allocated is expensive & error-prone\n"
          ]
        }
      ]
    },
    {
      "cell_type": "code",
      "source": [
        "model.train(documents, total_examples=len(documents), epochs = 5)\n",
        "model.save(model_name)"
      ],
      "metadata": {
        "colab": {
          "base_uri": "https://localhost:8080/"
        },
        "id": "Ob3aASY8luR8",
        "outputId": "ee7eee75-6c84-4d33-c4b0-941c12763760"
      },
      "execution_count": 11,
      "outputs": [
        {
          "output_type": "stream",
          "name": "stderr",
          "text": [
            "WARNING:gensim.models.word2vec:Effective 'alpha' higher than previous training cycles\n"
          ]
        }
      ]
    },
    {
      "cell_type": "code",
      "source": [
        "model.wv['könyv']"
      ],
      "metadata": {
        "colab": {
          "base_uri": "https://localhost:8080/"
        },
        "id": "wZgYNxzOndgO",
        "outputId": "3d3e5669-d33d-4431-911d-0a264574c265"
      },
      "execution_count": 12,
      "outputs": [
        {
          "output_type": "execute_result",
          "data": {
            "text/plain": [
              "array([ 0.6452424 ,  0.00774061, -0.05378435,  0.16109864, -0.5652805 ,\n",
              "       -0.20422785, -0.33523738,  0.10901169, -0.1486586 ,  0.07550424,\n",
              "        0.0486619 , -0.24080387,  0.07243193,  0.19740862,  0.02868237,\n",
              "       -0.16969346, -0.11952788, -0.00348568,  0.37977925,  0.51710653,\n",
              "        0.03576323,  0.06393986,  0.03835683,  0.27300382,  0.20126796,\n",
              "       -0.18871824, -0.46391612, -0.05353734,  0.09570438, -0.08357211,\n",
              "       -0.22457963, -0.10164903, -0.20384295, -0.09874244, -0.28652927,\n",
              "       -0.14548737,  0.07028065, -0.12599069, -0.09836089, -0.46259758,\n",
              "       -0.20326053, -0.17200723, -0.32518145, -0.21403748, -0.14741762,\n",
              "        0.16457254,  0.1783335 , -0.01016353, -0.24974939,  0.03501152,\n",
              "       -0.18650782,  0.38612494, -0.29372042,  0.0189934 , -0.1772119 ,\n",
              "       -0.0660537 ,  0.03066284, -0.16756846, -0.3507783 , -0.33846372,\n",
              "        0.04048376,  0.06850696, -0.56933594,  0.14382774,  0.17993955,\n",
              "       -0.27806306, -0.02857106, -0.33935022, -0.26541725, -0.00423526,\n",
              "       -0.12759137, -0.2060198 ,  0.29325894, -0.29186133, -0.17691183,\n",
              "        0.06454413, -0.24311145,  0.06119863, -0.1174064 , -0.07830346,\n",
              "        0.0188523 , -0.5715005 ,  0.30460024,  0.35219544,  0.01018416,\n",
              "        0.19335058, -0.08084501,  0.45505908,  0.20615743, -0.5848937 ,\n",
              "        0.327077  , -0.46295393, -0.12942843, -0.01979244,  0.2208436 ,\n",
              "        0.10194988,  0.11060133,  0.17942339, -0.3220113 ,  0.3161829 ,\n",
              "       -0.00780977,  0.07003463,  0.33443585,  0.03919686, -0.24305762,\n",
              "        0.01233242,  0.27147514,  0.08054025, -0.30761275, -0.04314275,\n",
              "       -0.18486531,  0.10489375, -0.2554324 , -0.19169414,  0.25236425,\n",
              "       -0.05165346,  0.18319188,  0.13858673,  0.19584307, -0.00360527,\n",
              "        0.28416848,  0.366107  ,  0.53873456, -0.07419045,  0.46615267,\n",
              "        0.07821272,  0.20273054,  0.22747166,  0.01202525,  0.26080376,\n",
              "        0.29253134,  0.09936235, -0.11629968, -0.24994685,  0.36349085,\n",
              "       -0.28795052, -0.31478617,  0.07385993,  0.03681694,  0.1541894 ,\n",
              "       -0.01525268,  0.03741332,  0.14036037, -0.1043187 ,  0.13943115,\n",
              "        0.04630493, -0.3150146 , -0.1579839 ,  0.09282791, -0.02839653],\n",
              "      dtype=float32)"
            ]
          },
          "metadata": {},
          "execution_count": 12
        }
      ]
    },
    {
      "cell_type": "code",
      "source": [
        "model.wv.most_similar(\"könyv\")"
      ],
      "metadata": {
        "colab": {
          "base_uri": "https://localhost:8080/"
        },
        "id": "LASuhMWFt-C7",
        "outputId": "a68369f1-e8ac-4352-a55c-a27142629060"
      },
      "execution_count": 15,
      "outputs": [
        {
          "output_type": "execute_result",
          "data": {
            "text/plain": [
              "[('tőled', 0.9765174388885498),\n",
              " ('szeretni', 0.975473940372467),\n",
              " ('képzelni', 0.970724880695343),\n",
              " ('foglalkozni', 0.9704634547233582),\n",
              " ('hova', 0.9704198837280273),\n",
              " ('csinálunk', 0.9690806865692139),\n",
              " ('abba', 0.9675807952880859),\n",
              " ('szerettem', 0.9674118161201477),\n",
              " ('gondolj', 0.9659615755081177),\n",
              " ('egyet', 0.9657123684883118)]"
            ]
          },
          "metadata": {},
          "execution_count": 15
        }
      ]
    },
    {
      "cell_type": "markdown",
      "source": [
        "# References"
      ],
      "metadata": {
        "id": "rPxMbYXTPQuI"
      }
    },
    {
      "cell_type": "markdown",
      "source": [
        "* Magyar Webkorpusz 2.0: *Nemeskey, Dávid Márk (2020). “Natural Language Processing methods for Language Modeling”. PhD thesis. Eötvös Loránd University.*\n",
        "\n",
        "* Tutorial for implementing word2vec: https://kavita-ganesan.com/gensim-word2vec-tutorial-starter-code/"
      ],
      "metadata": {
        "id": "4eOdIjA1PYrD"
      }
    }
  ]
}